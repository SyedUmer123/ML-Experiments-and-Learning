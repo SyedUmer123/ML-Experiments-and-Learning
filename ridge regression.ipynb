{
 "cells": [
  {
   "cell_type": "markdown",
   "id": "b11a4eda",
   "metadata": {},
   "source": [
    "**Working with Ridge Regression and Comparing it with Linear Regression**"
   ]
  },
  {
   "cell_type": "code",
   "execution_count": 1,
   "id": "9c68baa2",
   "metadata": {},
   "outputs": [],
   "source": [
    "from sklearn.model_selection import train_test_split\n",
    "from sklearn.preprocessing import StandardScaler\n",
    "from sklearn.datasets import load_diabetes\n",
    "from sklearn.linear_model import LinearRegression\n",
    "from sklearn.linear_model import Ridge\n",
    "from sklearn.linear_model import Lasso\n",
    "from sklearn.metrics import r2_score,mean_squared_error"
   ]
  },
  {
   "cell_type": "code",
   "execution_count": 2,
   "id": "f15e3379",
   "metadata": {},
   "outputs": [],
   "source": [
    "df=load_diabetes()"
   ]
  },
  {
   "cell_type": "code",
   "execution_count": 3,
   "id": "49e2266b",
   "metadata": {},
   "outputs": [],
   "source": [
    "X=df.data\n",
    "y=df.target"
   ]
  },
  {
   "cell_type": "code",
   "execution_count": 4,
   "id": "15917aaa",
   "metadata": {},
   "outputs": [],
   "source": [
    "X_train,X_test,y_train,y_test=train_test_split(X,y,test_size=0.2,random_state=44)"
   ]
  },
  {
   "cell_type": "code",
   "execution_count": 5,
   "id": "a904f0e2",
   "metadata": {},
   "outputs": [],
   "source": [
    "lr=LinearRegression()\n",
    "lr.fit(X_train,y_train)\n",
    "y_pred=lr.predict(X_test)"
   ]
  },
  {
   "cell_type": "code",
   "execution_count": 6,
   "id": "8c102649",
   "metadata": {},
   "outputs": [
    {
     "name": "stdout",
     "output_type": "stream",
     "text": [
      "R2 Score 0.5252024842346733\n",
      "MSE Score 2588.020136935837\n"
     ]
    }
   ],
   "source": [
    "print(f\"R2 Score {r2_score(y_test,y_pred)}\")\n",
    "print(f\"MSE Score {mean_squared_error(y_test,y_pred)}\")"
   ]
  },
  {
   "cell_type": "code",
   "execution_count": 9,
   "id": "981dddb4",
   "metadata": {},
   "outputs": [
    {
     "data": {
      "text/plain": [
       "array([ -39.02518224, -209.40021613,  523.12827726,  313.39956807,\n",
       "       -707.64522718,  366.444973  ,  124.7302828 ,  255.37681814,\n",
       "        699.55435042,   88.19899505])"
      ]
     },
     "execution_count": 9,
     "metadata": {},
     "output_type": "execute_result"
    }
   ],
   "source": [
    "lr.coef_"
   ]
  },
  {
   "cell_type": "code",
   "execution_count": 7,
   "id": "c530306a",
   "metadata": {},
   "outputs": [],
   "source": [
    "rr=Ridge(alpha=0.00005)\n",
    "rr.fit(X_train,y_train)\n",
    "y_pred1=rr.predict(X_test)"
   ]
  },
  {
   "cell_type": "code",
   "execution_count": 10,
   "id": "766254c9",
   "metadata": {},
   "outputs": [
    {
     "data": {
      "text/plain": [
       "array([ -38.99039482, -209.38129581,  523.16110294,  313.38535517,\n",
       "       -702.99742765,  362.82232517,  122.60305033,  254.69179824,\n",
       "        697.83228182,   88.20864567])"
      ]
     },
     "execution_count": 10,
     "metadata": {},
     "output_type": "execute_result"
    }
   ],
   "source": [
    "rr.coef_"
   ]
  },
  {
   "cell_type": "code",
   "execution_count": 8,
   "id": "ec002f74",
   "metadata": {},
   "outputs": [
    {
     "name": "stdout",
     "output_type": "stream",
     "text": [
      "R2 Score 0.52518078961972\n",
      "MSE Score 2588.1383896614675\n"
     ]
    }
   ],
   "source": [
    "print(f\"R2 Score {r2_score(y_test,y_pred1)}\")\n",
    "print(f\"MSE Score {mean_squared_error(y_test,y_pred1)}\")"
   ]
  },
  {
   "cell_type": "code",
   "execution_count": null,
   "id": "e753c46a",
   "metadata": {},
   "outputs": [],
   "source": []
  }
 ],
 "metadata": {
  "kernelspec": {
   "display_name": "Python 3",
   "language": "python",
   "name": "python3"
  },
  "language_info": {
   "codemirror_mode": {
    "name": "ipython",
    "version": 3
   },
   "file_extension": ".py",
   "mimetype": "text/x-python",
   "name": "python",
   "nbconvert_exporter": "python",
   "pygments_lexer": "ipython3",
   "version": "3.12.1"
  }
 },
 "nbformat": 4,
 "nbformat_minor": 5
}
