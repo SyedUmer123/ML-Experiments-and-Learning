{
 "cells": [
  {
   "cell_type": "markdown",
   "id": "983989e1",
   "metadata": {},
   "source": [
    "## Comparing BaggingClassifier using Decision Tree and RandomForest\n"
   ]
  },
  {
   "cell_type": "code",
   "execution_count": 9,
   "id": "65a7bc1b",
   "metadata": {},
   "outputs": [],
   "source": [
    "from sklearn.metrics import accuracy_score\n",
    "from sklearn.datasets import load_breast_cancer\n",
    "from sklearn.model_selection import train_test_split,GridSearchCV\n",
    "from sklearn.tree import DecisionTreeClassifier\n",
    "from sklearn.ensemble import BaggingClassifier\n",
    "import pandas as pd\n",
    "import matplotlib.pyplot as plt"
   ]
  },
  {
   "cell_type": "code",
   "execution_count": 10,
   "id": "26990644-0574-4fe5-a411-4abd00cdb67f",
   "metadata": {},
   "outputs": [],
   "source": [
    "X=load_breast_cancer().data\n",
    "y=load_breast_cancer().target\n",
    "X_train,X_test,y_train,y_test=train_test_split(X,y,test_size=0.2,random_state=32)"
   ]
  },
  {
   "cell_type": "code",
   "execution_count": 11,
   "id": "21c03b37",
   "metadata": {},
   "outputs": [
    {
     "name": "stdout",
     "output_type": "stream",
     "text": [
      "Best params {'criterion': 'gini', 'max_depth': 6, 'min_samples_leaf': 4, 'min_samples_split': 2}\n",
      "Best score 0.964835164835165\n",
      "Accuracy :  0.9210526315789473\n"
     ]
    }
   ],
   "source": [
    "dt=DecisionTreeClassifier()\n",
    "params={\n",
    "    \"criterion\":['gini','entropy'],\n",
    "    \"max_depth\":[1,2,3,4,5,6,7,None],\n",
    "    \"min_samples_split\":[2,5,10],\n",
    "    \"min_samples_leaf\":[1,2,4,8]\n",
    "}\n",
    "grid=GridSearchCV(estimator=dt,param_grid=params,cv=5,scoring=\"accuracy\")\n",
    "grid.fit(X_train,y_train)\n",
    "print(f\"Best params {grid.best_params_}\")\n",
    "print(f\"Best score {grid.best_score_}\")\n",
    "dt_model=grid.best_estimator_\n",
    "y_pred=dt_model.predict(X_test)\n",
    "acc=accuracy_score(y_test,y_pred)\n",
    "print(\"Accuracy : \",acc)\n"
   ]
  },
  {
   "cell_type": "code",
   "execution_count": 12,
   "id": "03412f84",
   "metadata": {},
   "outputs": [
    {
     "name": "stdout",
     "output_type": "stream",
     "text": [
      "Best params {'bootstrap': False, 'estimator': DecisionTreeClassifier(criterion='entropy', max_depth=6), 'max_samples': 0.5, 'n_estimators': 30}\n",
      "Best score 0.964835164835165\n",
      "Accuracy :  0.9385964912280702\n"
     ]
    }
   ],
   "source": [
    "bc=BaggingClassifier(random_state=11)\n",
    "params={\n",
    "    \"estimator\":[DecisionTreeClassifier(criterion= 'entropy', max_depth= 6, min_samples_leaf= 1, min_samples_split= 2 )],\n",
    "    \"n_estimators\":[2,5,10,20,30,40,50],\n",
    "    \"max_samples\":[0.1,0.25,0.50,0.75],\n",
    "    \"bootstrap\":[False,True],\n",
    "    \n",
    "}\n",
    "grid_bagging=GridSearchCV(estimator=bc,param_grid=params,cv=5,scoring=\"accuracy\")\n",
    "grid_bagging.fit(X_train,y_train)\n",
    "print(f\"Best params {grid_bagging.best_params_}\")\n",
    "print(f\"Best score {grid_bagging.best_score_}\")\n",
    "dt_model=grid_bagging.best_estimator_\n",
    "y_pred_bagging=dt_model.predict(X_test)\n",
    "acc=accuracy_score(y_test,y_pred_bagging)\n",
    "print(\"Accuracy : \",acc)"
   ]
  },
  {
   "cell_type": "markdown",
   "id": "a41bb811",
   "metadata": {},
   "source": [
    "**Random Forest**"
   ]
  },
  {
   "cell_type": "code",
   "execution_count": 13,
   "id": "d12f7b51",
   "metadata": {},
   "outputs": [],
   "source": [
    "from sklearn.ensemble import RandomForestClassifier"
   ]
  },
  {
   "cell_type": "code",
   "execution_count": 14,
   "id": "5f5924f4",
   "metadata": {},
   "outputs": [
    {
     "name": "stdout",
     "output_type": "stream",
     "text": [
      "Accuracy :  0.9473684210526315\n"
     ]
    }
   ],
   "source": [
    "rc=RandomForestClassifier(random_state=56)\n",
    "rc.fit(X_train,y_train)\n",
    "y_pred=rc.predict(X_test)\n",
    "acc=accuracy_score(y_test,y_pred)\n",
    "print(\"Accuracy : \",acc)"
   ]
  },
  {
   "cell_type": "code",
   "execution_count": null,
   "id": "0f016b02",
   "metadata": {},
   "outputs": [],
   "source": [
    "params={\n",
    "    \"criterion\":['gini','entropy'],\n",
    "    \"max_depth\":[1,2,3,4,5,6,7,None],\n",
    "    \"min_samples_split\":[2,5,10],\n",
    "    \"min_samples_leaf\":[1,2,4,8],\n",
    "    \"max_features\":['sqrt','log2'],\n",
    "    \"bootstrap\":[True,False],\n",
    "    \"max_samples\":[0.25,0.50,0.75]\n",
    "    }\n",
    "grid=GridSearchCV(estimator=RandomForestClassifier(),param_grid=params,cv=5,verbose=2,scoring=\"accuracy\")\n",
    "grid.fit(X_train,y_train)\n",
    "print(f\"Best params {grid.best_params_}\")\n",
    "print(f\"Best score {grid.best_score_}\")\n",
    "model=grid.best_estimator_\n",
    "y_pred=model.predict(X_test)\n",
    "acc=accuracy_score(y_test,y_pred)\n",
    "print(\"Accuracy : \",acc)"
   ]
  },
  {
   "cell_type": "code",
   "execution_count": null,
   "id": "5310b685",
   "metadata": {},
   "outputs": [],
   "source": []
  }
 ],
 "metadata": {
  "kernelspec": {
   "display_name": "my_venv",
   "language": "python",
   "name": "python3"
  },
  "language_info": {
   "codemirror_mode": {
    "name": "ipython",
    "version": 3
   },
   "file_extension": ".py",
   "mimetype": "text/x-python",
   "name": "python",
   "nbconvert_exporter": "python",
   "pygments_lexer": "ipython3",
   "version": "3.13.5"
  }
 },
 "nbformat": 4,
 "nbformat_minor": 5
}
